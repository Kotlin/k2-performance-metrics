{
 "cells": [
  {
   "metadata": {},
   "cell_type": "code",
   "source": [
    "val reportFolder = \"reports\"\n",
    "val executionRounds = 10"
   ],
   "outputs": [],
   "execution_count": null
  },
  {
   "metadata": {},
   "cell_type": "code",
   "source": [
    "import java.io.File\n",
    "import java.util.Properties\n",
    "\n",
    "val properties = Properties()\n",
    "File(\"gradle.properties\").bufferedReader().use {\n",
    "    properties.load(it)\n",
    "}\n",
    "\n",
    "val executedTask = properties.getProperty(\"scenario.task\") ?: \"assemble\"\n",
    "\n",
    "val projectPath = properties.getProperty(\"project.path\") ?: properties.getProperty(\"project.git.directory\")\n",
    "\n",
    "val projectName: String = projectPath?.substringAfterLast(\"\\\\\")?.substringAfterLast(\"/\")?.removeSuffix(\".git\") ?: \"User\""
   ],
   "outputs": [],
   "execution_count": null
  },
  {
   "metadata": {},
   "cell_type": "code",
   "source": [
    "enum class CompilerMetrics(val readableName: String) {\n",
    "    GRADLE_TASK(\"Total Gradle task time\"),\n",
    "\n",
    "    COMPILATION_ROUND(\"Sources compilation round\"),\n",
    "    \n",
    "    //compiler metrics\n",
    "    COMPILER_INITIALIZATION(\"Compiler initialization time\"),\n",
    "    CODE_ANALYSIS(\"Compiler code analysis\"),\n",
    "    IR_TRANSLATION(\"Compiler IR translation\"),\n",
    "    IR_LOWERING(\"Compiler IR lowering\"),\n",
    "    IR_GENERATION(\"Compiler IR generation\"),\n",
    "    ;\n",
    "}"
   ],
   "outputs": [],
   "execution_count": null
  },
  {
   "metadata": {},
   "cell_type": "code",
   "source": "%use dataframe",
   "outputs": [],
   "execution_count": null
  },
  {
   "metadata": {},
   "cell_type": "code",
   "source": [
    "import java.io.File\n",
    "import org.jetbrains.kotlinx.dataframe.DataFrame\n",
    "\n",
    "//Json report print time in milliseconds \n",
    "fun readJsonReportFile(file: File): Map<CompilerMetrics, Long?>? {\n",
    "    if (file.extension != \"json\" || file.readText().isBlank())\n",
    "        return null\n",
    "    val report = DataFrame.read(file)\n",
    "\n",
    "    if ((report.get(\"startParameters\").get(\"tasks\")[0] as List<String>).get(0) != executedTask)\n",
    "        return null\n",
    "\n",
    "    val timeMetrics = report.get(\"aggregatedMetrics\").get(\"buildTimes\").get(\"buildTimesNs\")[0] as DataRow<*>\n",
    "\n",
    "    return CompilerMetrics.values().associate {\n",
    "        val value = timeMetrics.getOrNull(it.name)?.let {\n",
    "            when (it) {\n",
    "                is Int -> it.toLong()\n",
    "                is Long -> it\n",
    "                is String -> it.toLong()\n",
    "                else -> throw IllegalStateException(\"Unknown type ${it.javaClass} to convert to Long\")\n",
    "            }\n",
    "        }\n",
    "        Pair(it, value)\n",
    "    }\n",
    "}"
   ],
   "outputs": [],
   "execution_count": null
  },
  {
   "metadata": {},
   "cell_type": "code",
   "source": "",
   "outputs": [],
   "execution_count": null
  },
  {
   "metadata": {},
   "cell_type": "code",
   "source": [
    "import kotlin.streams.toList\n",
    "\n",
    "//Text report print time in seconds with 2 decemal digits, so there is an error during conversion to nanoSeconds\n",
    "fun readTextReportFile(file: File): Map<CompilerMetrics, Long?>? {\n",
    "    val isValidReportFile = file.extension == \"txt\" && file.readText().isNotEmpty()  && file.readText().contains(\"tasks = [$executedTask]\")\n",
    "    if (!isValidReportFile) return null\n",
    "    \n",
    "    val aggregatedTimeMetrics = file.bufferedReader().use {\n",
    "        it.lines().dropWhile { !it.startsWith(\"Time metrics:\") }.takeWhile { it.isNotBlank() }.toList()\n",
    "    }\n",
    "\n",
    "    return CompilerMetrics.values().associate { metric ->\n",
    "        val metricLine = aggregatedTimeMetrics.firstOrNull { it.trim().startsWith(metric.readableName) }\n",
    "        val value = metricLine?.substringAfter(\": \")?.substringBefore(\" \")?.replace(\",\", \"\")?.toDouble()\n",
    "        Pair(metric, value?.times(1_000_000_000)?.toLong())\n",
    "    }\n",
    "}\n"
   ],
   "outputs": [],
   "execution_count": null
  },
  {
   "metadata": {},
   "cell_type": "markdown",
   "source": [
    "# Read compiler metrics\n"
   ]
  },
  {
   "metadata": {},
   "cell_type": "code",
   "source": "%use kandy",
   "outputs": [],
   "execution_count": null
  },
  {
   "metadata": {},
   "cell_type": "code",
   "source": [
    "import org.jetbrains.kotlinx.dataframe.api.toDataFrame\n",
    "import java.nio.file.Files\n",
    "import kotlin.io.path.Path\n",
    "\n",
    "fun readMetrics(\n",
    "    directory: File,\n",
    "    readReportFile: (File) -> Map<CompilerMetrics, Long?>?\n",
    ") = directory.listFiles()\n",
    "    .sortedByDescending(File::lastModified)\n",
    "    .mapNotNull { readReportFile(it) }\n",
    "    .take(executionRounds)\n",
    "    .toList()\n",
    "\n",
    "fun collectMeanValue(\n",
    "    metrics: List<Map<CompilerMetrics, Long?>>,\n",
    "): Map<String, Any?> {\n",
    "    val rows = CompilerMetrics.values().map { compilerMetric ->\n",
    "        val values = metrics.map { it[compilerMetric] }.filterNotNull()\n",
    "        Pair(compilerMetric.name, values)\n",
    "    }.filter { \n",
    "        val allValuesPresent = (it.second.size == executionRounds)\n",
    "        if (!allValuesPresent) {\n",
    "            println(\"Unable to calculate mean value for ${it.first}, only ${it.second.size} runs are found\")\n",
    "        }\n",
    "        allValuesPresent\n",
    "    }.toTypedArray()\n",
    "\n",
    "    val meanValue = dataFrameOf(*rows).mean()\n",
    "\n",
    "    return CompilerMetrics.values().associate {\n",
    "        Pair(it.name, meanValue.getOrNull(it.name))\n",
    "    }\n",
    "} \n"
   ],
   "outputs": [],
   "execution_count": null
  },
  {
   "metadata": {},
   "cell_type": "markdown",
   "source": "# Collect data into dataframe"
  },
  {
   "metadata": {},
   "cell_type": "code",
   "source": "",
   "outputs": [],
   "execution_count": null
  },
  {
   "metadata": {},
   "cell_type": "code",
   "source": [
    "val kotlinVersionColumn = \"kotlinVersion\"\n",
    "val buildScenarioColumn = \"buildScenario\"\n",
    "\n",
    "val columnNames = CompilerMetrics.values().map { it.name }.toMutableList()\n",
    "columnNames.add(kotlinVersionColumn)\n",
    "columnNames.add(buildScenarioColumn)\n",
    "\n",
    "fun collectResultsIntoDataFrame(\n",
    "    directory: File,\n",
    "    readReportFile: (File) -> Map<CompilerMetrics, Long?>?,\n",
    "): AnyFrame {\n",
    "    val rows = directory.listFiles().filter { it.isDirectory() }.flatMap { versionDir ->\n",
    "        versionDir.listFiles().filter { it.isDirectory() }.map { scenarioDir ->\n",
    "            val buildMetrics = readMetrics(scenarioDir, readReportFile)\n",
    "            //rename scenarios for graphics only\n",
    "            val scenario = when (scenarioDir.name) {\n",
    "                \"clean_build\" -> \"Clean build\"\n",
    "                \"incremental_abi_build\" -> \"Incremental build for ABI changes\"\n",
    "                \"incremental_non_abi_build\" -> \"Incremental build for non-ABI changes\"\n",
    "                else -> scenarioDir.name\n",
    "            }\n",
    "\n",
    "            println(\"\\n Validate \\'$scenario\\' scenario for ${versionDir.name} kotlin version\")\n",
    "            val row = collectMeanValue(buildMetrics).toMutableMap()\n",
    "            row.put(kotlinVersionColumn, versionDir.name)\n",
    "            row.put(buildScenarioColumn, scenario)\n",
    "            row\n",
    "        }\n",
    "    }\n",
    "\n",
    "    val db = columnNames.map { compilerMetric -> Pair(compilerMetric, rows.map { it[compilerMetric] })}.toTypedArray()\n",
    "    return dataFrameOf(*db)\n",
    "}"
   ],
   "outputs": [],
   "execution_count": null
  },
  {
   "metadata": {},
   "cell_type": "code",
   "source": [
    "import java.util.concurrent.TimeUnit\n",
    "import kotlin.time.DurationUnit\n",
    "import kotlin.time.toDuration\n",
    "\n",
    "enum class TimeTransformation(val printTime: String, val transformation: (Double?) -> Double?) {\n",
    "    NANOSECONDS(\"nanosaconds\", { it }),\n",
    "    MILLISECONDS(\"milliseconds\", { \n",
    "        it?.toDuration(DurationUnit.NANOSECONDS)?.toDouble(DurationUnit.MILLISECONDS) \n",
    "    }),\n",
    "    SECONDS(\"seconds\", {\n",
    "        it?.toDuration(DurationUnit.NANOSECONDS)?.toDouble(DurationUnit.SECONDS) \n",
    "    })\n",
    "    ;\n",
    "}\n",
    "\n",
    "fun getTimeTranformationForColumn(df: DataFrame<Any?>, column: String): TimeTransformation {\n",
    "    val meanValue = df.mean(column, skipNA = true)\n",
    "    val ratio = 1_000\n",
    "    return when {\n",
    "        meanValue < 10 * ratio -> TimeTransformation.NANOSECONDS\n",
    "        meanValue < 10 * ratio * ratio -> TimeTransformation.MILLISECONDS\n",
    "        else -> TimeTransformation.SECONDS\n",
    "    }\n",
    "}"
   ],
   "outputs": [],
   "execution_count": null
  },
  {
   "metadata": {},
   "cell_type": "code",
   "source": [
    "var df = collectResultsIntoDataFrame(File(reportFolder), ::readTextReportFile)\n",
    "    .sortBy(kotlinVersionColumn)\n",
    "val timeTransformation = getTimeTranformationForColumn(df, CompilerMetrics.COMPILATION_ROUND.name)\n",
    "\n",
    " CompilerMetrics.values().forEach { \n",
    "     df = df.update(it.name).with { timeTransformation.transformation(it as Double) }\n",
    " }\n",
    "\n",
    "val dataFrame = df\n",
    "val scenarios = dataFrame[buildScenarioColumn]"
   ],
   "outputs": [],
   "execution_count": null
  },
  {
   "metadata": {},
   "cell_type": "code",
   "source": [
    "val plots = scenarios.distinct().toList().map { scenario ->\n",
    "    dataFrame.filter { buildScenario == scenario }.plot {\n",
    "        layout {\n",
    "            title = \"$projectName project\"\n",
    "            subtitle = \"$scenario\"\n",
    "            style { \n",
    "                legend {\n",
    "                    position = LegendPosition.Top\n",
    "                }\n",
    "            }\n",
    "        }\n",
    "        bars {\n",
    "            x(kotlinVersionColumn) {\n",
    "                axis.name = \"Gradle compilation time\"\n",
    "            }\n",
    "            y(CompilerMetrics.COMPILATION_ROUND.name) {\n",
    "                axis.name = \"Time (${timeTransformation.printTime})\"\n",
    "            }\n",
    "        }\n",
    "        \n",
    "    }\n",
    "}\n",
    "plotGrid(plots, 1)"
   ],
   "outputs": [],
   "execution_count": null
  },
  {
   "metadata": {},
   "cell_type": "code",
   "source": "val incrementalScenatiosLabels = listOf(Pair(\"Incremental build for ABI changes\", \"ABI changes\"), Pair(\"Incremental build for non-ABI changes\", \"non-ABI changes\"))",
   "outputs": [],
   "execution_count": null
  },
  {
   "metadata": {},
   "cell_type": "code",
   "source": [
    "fun gradleBuildTime(scenarios: List<String>, name: String, scenarioBreaksLabeled: List<Pair<String, String>>? = null) =\n",
    "    dataFrame.filter { buildScenario in scenarios }\n",
    "        .plot {\n",
    "            layout {\n",
    "                title = \"$projectName project - $name\"\n",
    "                style {\n",
    "                    legend {\n",
    "                        position = LegendPosition.Top\n",
    "                    }\n",
    "                }\n",
    "            }\n",
    "            bars {\n",
    "                x(buildScenarioColumn) {\n",
    "                    axis.name = \"Gradle build time\"\n",
    "                    scenarioBreaksLabeled?.let {\n",
    "                        axis.breaksLabeled(it.map { it.first }, it.map { it.second })\n",
    "                    }\n",
    "                }\n",
    "                y(GRADLE_TASK.name) {\n",
    "                    axis.name = \"Time (${timeTransformation.printTime})\"\n",
    "                }\n",
    "                fillColor(kotlinVersionColumn) {\n",
    "                    legend.name = \"\"\n",
    "                }\n",
    "            }\n",
    "        }"
   ],
   "outputs": [],
   "execution_count": null
  },
  {
   "metadata": {},
   "cell_type": "code",
   "source": "gradleBuildTime(listOf(\"Clean build\"), \"Clean build scenario\")",
   "outputs": [],
   "execution_count": null
  },
  {
   "metadata": {},
   "cell_type": "code",
   "source": "gradleBuildTime(listOf(\"Incremental build for ABI changes\", \"Incremental build for non-ABI changes\"), \"Incremental build scenarios\", incrementalScenatiosLabels)\n",
   "outputs": [],
   "execution_count": null
  },
  {
   "metadata": {},
   "cell_type": "code",
   "source": [
    "fun kotlinCompilationTime(\n",
    "    scenarios: List<String>,\n",
    "    name: String,\n",
    "    scenarioBreaksLabeled: List<Pair<String, String>>? = null\n",
    ") = dataFrame.filter { buildScenario in scenarios }\n",
    "    .plot {\n",
    "        layout {\n",
    "            title = \"$projectName project - $name\"\n",
    "            style {\n",
    "                legend {\n",
    "                    position = LegendPosition.Top\n",
    "                }\n",
    "            }\n",
    "        }\n",
    "        bars {\n",
    "            x(buildScenarioColumn) {\n",
    "                axis.name = \"Kotlin compilation time\"\n",
    "                scenarioBreaksLabeled?.let {\n",
    "                    axis.breaksLabeled(it.map { it.first }, it.map { it.second })\n",
    "                }\n",
    "            }\n",
    "            y(COMPILATION_ROUND.name) {\n",
    "                axis.name = \"Time (${timeTransformation.printTime})\"\n",
    "            }\n",
    "            fillColor(kotlinVersionColumn) {\n",
    "                legend.name = \"\"\n",
    "            }\n",
    "        }\n",
    "    }\n",
    "    \n"
   ],
   "outputs": [],
   "execution_count": null
  },
  {
   "metadata": {},
   "cell_type": "code",
   "source": "kotlinCompilationTime(listOf(\"Clean build\"), \"Clean build scenario\")\n",
   "outputs": [],
   "execution_count": null
  },
  {
   "metadata": {},
   "cell_type": "code",
   "source": "kotlinCompilationTime(listOf(\"Incremental build for ABI changes\", \"Incremental build for non-ABI changes\"), \"Incremental build scenarios\", incrementalScenatiosLabels)",
   "outputs": [],
   "execution_count": null
  },
  {
   "metadata": {},
   "cell_type": "markdown",
   "source": "# Compare Gradle and Compiler time"
  },
  {
   "metadata": {},
   "cell_type": "code",
   "source": [
    "import org.jetbrains.kotlinx.kandy.ir.scale.PositionalContinuousScale\n",
    "import org.jetbrains.kotlinx.kandy.ir.scale.PositionalScale\n",
    "import org.jetbrains.kotlinx.kandy.ir.scale.PositionalTransform\n",
    "\n",
    "fun getPlotForCompilerMetrics(\n",
    "    scenario: String,\n",
    "    graphicsCaption: String,\n",
    "    vararg metrics: Pair<CompilerMetrics, String>\n",
    ") = dataFrame\n",
    "    .gather(*metrics.map { it.first.name }.toTypedArray()).into(\"metric\", \"time_ns\")\n",
    "    .filter { it[\"buildScenario\"] == scenario }\n",
    "    .plot {\n",
    "        layout {\n",
    "            title = \"$projectName project\"\n",
    "            subtitle = scenario\n",
    "            caption = graphicsCaption\n",
    "            style {\n",
    "                legend {\n",
    "                    position = LegendPosition.Top\n",
    "                }\n",
    "            }\n",
    "            size = Pair(800, 300)\n",
    "        }\n",
    "        barsH {\n",
    "            y(\"kotlinVersion\"<String>()) {\n",
    "                axis.name = \"Kotlin version\"\n",
    "            }\n",
    "            x(\"time_ns\"<Double>()) {\n",
    "                axis.name = \"Time (${timeTransformation.printTime})\"\n",
    "            }\n",
    "            fillColor(\"metric\"<String>()) {\n",
    "                legend {\n",
    "                    name = \"\"\n",
    "                    breaksLabeled(*metrics.map { Pair(it.first.name, it.second) }.toTypedArray())\n",
    "                }\n",
    "            }\n",
    "            position = Position.stack()\n",
    "\n",
    "        }\n",
    "    }"
   ],
   "outputs": [],
   "execution_count": null
  },
  {
   "metadata": {},
   "cell_type": "code",
   "source": [
    "val versionByScenario =\n",
    "    scenarios.distinct().toList().associate { name -> Pair(name as String, getPlotForCompilerMetrics(name, \"Gradle compilation breakdown\", CompilerMetrics.COMPILATION_ROUND to \"Kotlin Compiler time\", \n",
    "        CompilerMetrics.GRADLE_TASK to \"Gradle time\")) }"
   ],
   "outputs": [],
   "execution_count": null
  },
  {
   "metadata": {},
   "cell_type": "code",
   "source": "versionByScenario.get(\"Clean build\")",
   "outputs": [],
   "execution_count": null
  },
  {
   "metadata": {},
   "cell_type": "code",
   "source": "versionByScenario.get(\"Incremental build for non-ABI changes\")",
   "outputs": [],
   "execution_count": null
  },
  {
   "metadata": {},
   "cell_type": "code",
   "source": "versionByScenario.get(\"Incremental build for ABI changes\")",
   "outputs": [],
   "execution_count": null
  },
  {
   "metadata": {},
   "cell_type": "markdown",
   "source": "# Collect Compiler metrics"
  },
  {
   "metadata": {},
   "cell_type": "code",
   "source": [
    "val compilerMetrics = scenarios.distinct().toList().associate {\n",
    "    Pair(\n",
    "        it as String, getPlotForCompilerMetrics(\n",
    "            it, \"Kotlin compilation breakdown\",\n",
    "            CompilerMetrics.COMPILER_INITIALIZATION to \"Initialization phase\",\n",
    "            CompilerMetrics.CODE_ANALYSIS to \"Analysis phase\",\n",
    "            CompilerMetrics.IR_TRANSLATION to \"Translation phase\",\n",
    "            CompilerMetrics.IR_LOWERING to \"Lowering\",\n",
    "            CompilerMetrics.IR_GENERATION to \"Generation\"\n",
    "        )\n",
    "    )\n",
    "}"
   ],
   "outputs": [],
   "execution_count": null
  },
  {
   "metadata": {},
   "cell_type": "code",
   "source": "compilerMetrics.get(\"Clean build\") \n",
   "outputs": [],
   "execution_count": null
  },
  {
   "metadata": {},
   "cell_type": "code",
   "source": "compilerMetrics.get(\"Incremental build for non-ABI changes\") ",
   "outputs": [],
   "execution_count": null
  },
  {
   "metadata": {},
   "cell_type": "code",
   "source": "compilerMetrics.get(\"Incremental build for ABI changes\") ",
   "outputs": [],
   "execution_count": null
  },
  {
   "metadata": {},
   "cell_type": "code",
   "source": "",
   "outputs": [],
   "execution_count": null
  },
  {
   "metadata": {},
   "cell_type": "code",
   "source": "",
   "outputs": [],
   "execution_count": null
  }
 ],
 "metadata": {
  "kernelspec": {
   "display_name": "Kotlin",
   "language": "kotlin",
   "name": "kotlin"
  },
  "language_info": {
   "name": "kotlin",
   "version": "1.9.0",
   "mimetype": "text/x-kotlin",
   "file_extension": ".kt",
   "pygments_lexer": "kotlin",
   "codemirror_mode": "text/x-kotlin",
   "nbconvert_exporter": ""
  },
  "ktnbPluginMetadata": {
   "projectDependencies": [
    "buildSrc"
   ]
  }
 },
 "nbformat": 4,
 "nbformat_minor": 0
}
